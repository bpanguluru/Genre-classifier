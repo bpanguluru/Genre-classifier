{
 "cells": [
  {
   "cell_type": "code",
   "execution_count": 5,
   "id": "d15ec049",
   "metadata": {},
   "outputs": [
    {
     "name": "stdout",
     "output_type": "stream",
     "text": [
      "What random sort do you want? Enter the corresponding number.\n",
      " 1) Flip a coin\n",
      " 2) Select individuals from a group\n",
      " 1\n",
      "Flip how many times?: 1\n",
      "tails\n"
     ]
    }
   ],
   "source": [
    "import qrandom\n",
    "import numpy as np\n",
    "\n",
    "randomMethod = int(input(\"What random sort do you want? Enter the corresponding number.\\n 1) Flip a coin\\n 2) Select individuals from a group\\n \"))\n",
    "\n",
    "if randomMethod == 1:\n",
    "    no_flips = int(input(\"Flip how many times?: \"))\n",
    "    for i in range(no_flips):\n",
    "        coin = qrandom.randint(0, 1)\n",
    "        if coin == 0:\n",
    "            print(\"tails\")\n",
    "        if coin == 1:\n",
    "            print(\"heads\")\n",
    "\n",
    "if randomMethod == 2:\n",
    "    list_chance = []\n",
    "    nameChance_dict = {}\n",
    "    no_individuals = int(input(\"How many individuals?: \"))\n",
    "\n",
    "    for j in range(no_individuals):\n",
    "        name = str(input(\"Name: \"))\n",
    "        chance = qrandom.random()\n",
    "        while chance == any in list_chance:\n",
    "            chance = qrandom.random()\n",
    "        nameChance_dict[chance] = name\n",
    "        list_chance.append(chance)\n",
    "        new = np.asarray(list_chance)\n",
    "    choose_how_many = int(input(\"How many individuals must be selected?: \"))\n",
    "    # print(new, type(new))\n",
    "    sorted_list = np.argsort(new)\n",
    "    # print(sorted_list)\n",
    "\n",
    "    for k in range(choose_how_many):\n",
    "        print(nameChance_dict[new[sorted_list[len(sorted_list) - 1 - k]]])"
   ]
  },
  {
   "cell_type": "code",
   "execution_count": null,
   "id": "e46c0136",
   "metadata": {},
   "outputs": [],
   "source": [
    "splitgayt"
   ]
  }
 ],
 "metadata": {
  "kernelspec": {
   "display_name": "Python 3 (ipykernel)",
   "language": "python",
   "name": "python3"
  },
  "language_info": {
   "codemirror_mode": {
    "name": "ipython",
    "version": 3
   },
   "file_extension": ".py",
   "mimetype": "text/x-python",
   "name": "python",
   "nbconvert_exporter": "python",
   "pygments_lexer": "ipython3",
   "version": "3.8.12"
  }
 },
 "nbformat": 4,
 "nbformat_minor": 5
}
